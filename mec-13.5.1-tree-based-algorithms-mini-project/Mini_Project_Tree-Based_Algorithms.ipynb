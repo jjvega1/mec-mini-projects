{
 "cells": [
  {
   "cell_type": "markdown",
   "metadata": {},
   "source": [
    "# Mini Project: Tree-Based Algorithms"
   ]
  },
  {
   "cell_type": "markdown",
   "metadata": {},
   "source": [
    "## The \"German Credit\" Dataset"
   ]
  },
  {
   "cell_type": "markdown",
   "metadata": {},
   "source": [
    "### Dataset Details"
   ]
  },
  {
   "cell_type": "markdown",
   "metadata": {},
   "source": [
    "This dataset has two classes (these would be considered labels in Machine Learning terms) to describe the worthiness of a personal loan: \"Good\" or \"Bad\". There are predictors related to attributes, such as: checking account status, duration, credit history, purpose of the loan, amount of the loan, savings accounts or bonds, employment duration, installment rate in percentage of disposable income, personal information, other debtors/guarantors, residence duration, property, age, other installment plans, housing, number of existing credits, job information, number of people being liable to provide maintenance for, telephone, and foreign worker status.\n",
    "\n",
    "Many of these predictors are discrete and have been expanded into several 0/1 indicator variables (a.k.a. they have been one-hot-encoded).\n",
    "\n",
    "This dataset has been kindly provided by Professor Dr. Hans Hofmann of the University of Hamburg, and can also be found on the UCI Machine Learning Repository."
   ]
  },
  {
   "cell_type": "markdown",
   "metadata": {},
   "source": [
    "\n",
    "\n",
    "\n"
   ]
  },
  {
   "cell_type": "markdown",
   "metadata": {},
   "source": [
    "## Decision Trees"
   ]
  },
  {
   "cell_type": "markdown",
   "metadata": {},
   "source": [
    " As we have learned in the previous lectures, Decision Trees as a family of algorithms (irrespective to the particular implementation) are powerful algorithms that can produce models with a predictive accuracy higher than that produced by linear models, such as Linear or Logistic Regression. Primarily, this is due to the fact the DT's can model nonlinear relationships, and also have a number of tuning paramters, that allow for the practicioner to achieve the best possible model. An added bonus is the ability to visualize the trained Decision Tree model, which allows for some insight into how the model has produced the predictions that it has. One caveat here, to keep in mind, is that sometimes, due to the size of the dataset (both in the sense of the number of records, as well as the number of features), the visualization might prove to be very large and complex, increasing the difficulty of interpretation."
   ]
  },
  {
   "cell_type": "markdown",
   "metadata": {},
   "source": [
    "To give you a very good example of how Decision Trees can be visualized and interpreted, we would strongly recommend that, before continuing on with solving the problems in this Mini Project, you take the time to read this fanstastic, detailed and informative blog post: http://explained.ai/decision-tree-viz/index.html"
   ]
  },
  {
   "cell_type": "markdown",
   "metadata": {},
   "source": [
    "## Building Your First Decision Tree Model"
   ]
  },
  {
   "cell_type": "markdown",
   "metadata": {},
   "source": [
    "So, now it's time to jump straight into the heart of the matter. Your first task, is to build a Decision Tree model, using the aforementioned \"German Credit\" dataset, which contains 1,000 records, and 62 columns (one of them presents the labels, and the other 61 present the potential features for the model.)"
   ]
  },
  {
   "cell_type": "markdown",
   "metadata": {},
   "source": [
    "For this task, you will be using the scikit-learn library, which comes already pre-installed with the Anaconda Python distribution. In case you're not using that, you can easily install it using pip."
   ]
  },
  {
   "cell_type": "markdown",
   "metadata": {},
   "source": [
    "Before embarking on creating your first model, we would strongly encourage you to read the short tutorial for Decision Trees in scikit-learn (http://scikit-learn.org/stable/modules/tree.html), and then dive a bit deeper into the documentation of the algorithm itself (http://scikit-learn.org/stable/modules/generated/sklearn.tree.DecisionTreeClassifier.html). "
   ]
  },
  {
   "cell_type": "markdown",
   "metadata": {},
   "source": [
    "Also, since you want to be able to present the results of your model, we suggest you take a look at the tutorial for accuracy metrics for classification models (http://scikit-learn.org/stable/modules/model_evaluation.html#classification-report) as well as the more detailed documentation (http://scikit-learn.org/stable/modules/generated/sklearn.metrics.classification_report.html).\n",
    "\n",
    "Finally, an *amazing* resource that explains the various classification model accuracy metrics, as well as the relationships between them, can be found on Wikipedia: https://en.wikipedia.org/wiki/Confusion_matrix"
   ]
  },
  {
   "cell_type": "markdown",
   "metadata": {},
   "source": [
    "(Note: as you've already learned in the Logistic Regression mini project, a standard practice in Machine Learning for achieving the best possible result when training a model is to use hyperparameter tuning, through Grid Search and k-fold Cross Validation. We strongly encourage you to use it here as well, not just because it's standard practice, but also becuase it's not going to be computationally to intensive, due to the size of the dataset that you're working with. Our suggestion here is that you split the data into 70% training, and 30% testing. Then, do the hyperparameter tuning and Cross Validation on the training set, and afterwards to a final test on the testing set.)"
   ]
  },
  {
   "cell_type": "markdown",
   "metadata": {},
   "source": [
    "### Now we pass the torch onto you! You can start building your first Decision Tree model! :)"
   ]
  },
  {
   "cell_type": "code",
   "execution_count": 1,
   "metadata": {},
   "outputs": [],
   "source": [
    "import pandas as pd\n",
    "from sklearn.tree import DecisionTreeClassifier\n",
    "from sklearn.metrics import classification_report\n",
    "from sklearn.model_selection import train_test_split\n",
    "from sklearn.model_selection import GridSearchCV"
   ]
  },
  {
   "cell_type": "code",
   "execution_count": 29,
   "metadata": {},
   "outputs": [
    {
     "name": "stdout",
     "output_type": "stream",
     "text": [
      "              precision    recall  f1-score   support\n",
      "\n",
      "         Bad       0.54      0.44      0.48       100\n",
      "        Good       0.74      0.81      0.78       200\n",
      "\n",
      "    accuracy                           0.69       300\n",
      "   macro avg       0.64      0.62      0.63       300\n",
      "weighted avg       0.67      0.69      0.68       300\n",
      "\n"
     ]
    }
   ],
   "source": [
    "# Your code here!\n",
    "gc = pd.read_csv(\"GermanCredit.csv.zip\")\n",
    "\n",
    "X = gc.drop('Class', axis = 1).values\n",
    "y = gc['Class'].values\n",
    "X_train, X_test, y_train, y_test = train_test_split(X, y, test_size = .3, random_state = 120)\n",
    "\n",
    "clf = DecisionTreeClassifier()\n",
    "clf.fit(X_train, y_train)\n",
    "y_pred = clf.predict(X_test)\n",
    "\n",
    "print(classification_report(y_test, y_pred))"
   ]
  },
  {
   "cell_type": "code",
   "execution_count": 47,
   "metadata": {},
   "outputs": [
    {
     "name": "stdout",
     "output_type": "stream",
     "text": [
      "Best: 0.728571 using {'criterion': 'gini', 'max_depth': 6, 'min_samples_leaf': 81}\n",
      "Took 16.0 seconds.\n"
     ]
    }
   ],
   "source": [
    "params = {'criterion': ['gini', 'entropy', 'log_loss'],\n",
    "          'max_depth': range(1, 62, 5), \n",
    "          'min_samples_leaf': range(1, 102, 5)\n",
    "         }\n",
    "\n",
    "start = time.time_ns()\n",
    "grid = GridSearchCV(DecisionTreeClassifier(), param_grid = params, cv = 10, n_jobs = -1) \n",
    "grid.fit(X_train, y_train)\n",
    "end = time.time_ns()\n",
    "t = (end - start) // 1e9 \n",
    "print(\"Best: %f using %s\" % (grid.best_score_, grid.best_params_))\n",
    "print(\"Took\", t, \"seconds.\")"
   ]
  },
  {
   "cell_type": "code",
   "execution_count": 38,
   "metadata": {},
   "outputs": [
    {
     "name": "stdout",
     "output_type": "stream",
     "text": [
      "              precision    recall  f1-score   support\n",
      "\n",
      "         Bad       0.56      0.22      0.32       100\n",
      "        Good       0.70      0.92      0.79       200\n",
      "\n",
      "    accuracy                           0.68       300\n",
      "   macro avg       0.63      0.57      0.56       300\n",
      "weighted avg       0.66      0.68      0.63       300\n",
      "\n"
     ]
    }
   ],
   "source": [
    "best_clf = DecisionTreeClassifier(criterion = 'gini', max_depth = 6, min_samples_leaf = 81)\n",
    "best_clf.fit(X_train, y_train)\n",
    "y_pred = best_clf.predict(X_test)\n",
    "\n",
    "print(classification_report(y_test, y_pred))"
   ]
  },
  {
   "cell_type": "markdown",
   "metadata": {},
   "source": [
    "### After you've built the best model you can, now it's time to visualize it!"
   ]
  },
  {
   "cell_type": "markdown",
   "metadata": {},
   "source": [
    "Rememeber that amazing blog post from a few paragraphs ago, that demonstrated how to visualize and interpret the results of your Decision Tree model. We've seen that this can perform very well, but let's see how it does on the \"German Credit\" dataset that we're working on, due to it being a bit larger than the one used by the blog authors."
   ]
  },
  {
   "cell_type": "markdown",
   "metadata": {},
   "source": [
    "First, we're going to need to install their package. If you're using Anaconda, this can be done easily by running:"
   ]
  },
  {
   "cell_type": "code",
   "execution_count": 47,
   "metadata": {},
   "outputs": [
    {
     "name": "stdout",
     "output_type": "stream",
     "text": [
      "Collecting dtreeviz\n",
      "  Downloading dtreeviz-2.2.1-py3-none-any.whl (91 kB)\n",
      "\u001b[2K     \u001b[90m━━━━━━━━━━━━━━━━━━━━━━━━━━━━━━━━━━━━━━━\u001b[0m \u001b[32m91.5/91.5 kB\u001b[0m \u001b[31m861.3 kB/s\u001b[0m eta \u001b[36m0:00:00\u001b[0m \u001b[36m0:00:01\u001b[0m\n",
      "\u001b[?25hRequirement already satisfied: scikit-learn in /Users/janjacob/anaconda3/lib/python3.10/site-packages (from dtreeviz) (1.2.2)\n",
      "Collecting graphviz>=0.9\n",
      "  Using cached graphviz-0.20.1-py3-none-any.whl (47 kB)\n",
      "Requirement already satisfied: numpy in /Users/janjacob/anaconda3/lib/python3.10/site-packages (from dtreeviz) (1.23.5)\n",
      "Requirement already satisfied: pandas in /Users/janjacob/anaconda3/lib/python3.10/site-packages (from dtreeviz) (1.5.3)\n",
      "Collecting colour\n",
      "  Using cached colour-0.1.5-py2.py3-none-any.whl (23 kB)\n",
      "Requirement already satisfied: matplotlib in /Users/janjacob/anaconda3/lib/python3.10/site-packages (from dtreeviz) (3.7.0)\n",
      "Requirement already satisfied: pytest in /Users/janjacob/anaconda3/lib/python3.10/site-packages (from dtreeviz) (7.1.2)\n",
      "Requirement already satisfied: cycler>=0.10 in /Users/janjacob/anaconda3/lib/python3.10/site-packages (from matplotlib->dtreeviz) (0.11.0)\n",
      "Requirement already satisfied: fonttools>=4.22.0 in /Users/janjacob/anaconda3/lib/python3.10/site-packages (from matplotlib->dtreeviz) (4.25.0)\n",
      "Requirement already satisfied: contourpy>=1.0.1 in /Users/janjacob/anaconda3/lib/python3.10/site-packages (from matplotlib->dtreeviz) (1.0.5)\n",
      "Requirement already satisfied: kiwisolver>=1.0.1 in /Users/janjacob/anaconda3/lib/python3.10/site-packages (from matplotlib->dtreeviz) (1.4.4)\n",
      "Requirement already satisfied: pillow>=6.2.0 in /Users/janjacob/anaconda3/lib/python3.10/site-packages (from matplotlib->dtreeviz) (9.4.0)\n",
      "Requirement already satisfied: pyparsing>=2.3.1 in /Users/janjacob/anaconda3/lib/python3.10/site-packages (from matplotlib->dtreeviz) (3.0.9)\n",
      "Requirement already satisfied: packaging>=20.0 in /Users/janjacob/anaconda3/lib/python3.10/site-packages (from matplotlib->dtreeviz) (22.0)\n",
      "Requirement already satisfied: python-dateutil>=2.7 in /Users/janjacob/anaconda3/lib/python3.10/site-packages (from matplotlib->dtreeviz) (2.8.2)\n",
      "Requirement already satisfied: pytz>=2020.1 in /Users/janjacob/anaconda3/lib/python3.10/site-packages (from pandas->dtreeviz) (2022.7)\n",
      "Requirement already satisfied: attrs>=19.2.0 in /Users/janjacob/anaconda3/lib/python3.10/site-packages (from pytest->dtreeviz) (22.1.0)\n",
      "Requirement already satisfied: iniconfig in /Users/janjacob/anaconda3/lib/python3.10/site-packages (from pytest->dtreeviz) (1.1.1)\n",
      "Requirement already satisfied: pluggy<2.0,>=0.12 in /Users/janjacob/anaconda3/lib/python3.10/site-packages (from pytest->dtreeviz) (1.0.0)\n",
      "Requirement already satisfied: py>=1.8.2 in /Users/janjacob/anaconda3/lib/python3.10/site-packages (from pytest->dtreeviz) (1.11.0)\n",
      "Requirement already satisfied: tomli>=1.0.0 in /Users/janjacob/anaconda3/lib/python3.10/site-packages (from pytest->dtreeviz) (2.0.1)\n",
      "Requirement already satisfied: joblib>=1.1.1 in /Users/janjacob/anaconda3/lib/python3.10/site-packages (from scikit-learn->dtreeviz) (1.1.1)\n",
      "Requirement already satisfied: threadpoolctl>=2.0.0 in /Users/janjacob/anaconda3/lib/python3.10/site-packages (from scikit-learn->dtreeviz) (2.2.0)\n",
      "Requirement already satisfied: scipy>=1.3.2 in /Users/janjacob/anaconda3/lib/python3.10/site-packages (from scikit-learn->dtreeviz) (1.10.0)\n",
      "Requirement already satisfied: six>=1.5 in /Users/janjacob/anaconda3/lib/python3.10/site-packages (from python-dateutil>=2.7->matplotlib->dtreeviz) (1.16.0)\n",
      "Installing collected packages: colour, graphviz, dtreeviz\n",
      "Successfully installed colour-0.1.5 dtreeviz-2.2.1 graphviz-0.20.1\n"
     ]
    }
   ],
   "source": [
    "! pip3 install dtreeviz"
   ]
  },
  {
   "cell_type": "markdown",
   "metadata": {},
   "source": [
    "If for any reason this way of installing doesn't work for you straight out of the box, please refer to the more detailed documentation here: https://github.com/parrt/dtreeviz"
   ]
  },
  {
   "cell_type": "markdown",
   "metadata": {},
   "source": [
    "Now you're ready to visualize your Decision Tree model! Please feel free to use the blog post for guidance and inspiration!"
   ]
  },
  {
   "cell_type": "code",
   "execution_count": 74,
   "metadata": {},
   "outputs": [
    {
     "ename": "TypeError",
     "evalue": "'<=' not supported between instances of 'numpy.ndarray' and 'str'",
     "output_type": "error",
     "traceback": [
      "\u001b[0;31m---------------------------------------------------------------------------\u001b[0m",
      "\u001b[0;31mTypeError\u001b[0m                                 Traceback (most recent call last)",
      "Cell \u001b[0;32mIn[74], line 7\u001b[0m\n\u001b[1;32m      4\u001b[0m feature_names \u001b[38;5;241m=\u001b[39m gc\u001b[38;5;241m.\u001b[39mdrop(\u001b[38;5;124m'\u001b[39m\u001b[38;5;124mClass\u001b[39m\u001b[38;5;124m'\u001b[39m, axis \u001b[38;5;241m=\u001b[39m \u001b[38;5;241m1\u001b[39m)\u001b[38;5;241m.\u001b[39mcolumns\n\u001b[1;32m      5\u001b[0m viz \u001b[38;5;241m=\u001b[39m dtreeviz\u001b[38;5;241m.\u001b[39mmodel(clf, X_train, y_train, target_name \u001b[38;5;241m=\u001b[39m \u001b[38;5;124m'\u001b[39m\u001b[38;5;124mClass\u001b[39m\u001b[38;5;124m'\u001b[39m, feature_names \u001b[38;5;241m=\u001b[39m feature_names, class_names \u001b[38;5;241m=\u001b[39m [\u001b[38;5;241m1\u001b[39m, \u001b[38;5;241m0\u001b[39m])\n\u001b[0;32m----> 7\u001b[0m \u001b[43mviz\u001b[49m\u001b[38;5;241;43m.\u001b[39;49m\u001b[43mview\u001b[49m\u001b[43m(\u001b[49m\u001b[43m)\u001b[49m\n",
      "File \u001b[0;32m~/anaconda3/lib/python3.10/site-packages/dtreeviz/trees.py:527\u001b[0m, in \u001b[0;36mDTreeVizAPI.view\u001b[0;34m(self, precision, orientation, instance_orientation, show_root_edge_labels, show_node_labels, show_just_path, fancy, histtype, leaftype, highlight_path, x, max_X_features_LR, max_X_features_TD, depth_range_to_display, label_fontsize, ticks_fontsize, fontname, title, title_fontsize, colors, scale)\u001b[0m\n\u001b[1;32m    525\u001b[0m \u001b[38;5;28;01mif\u001b[39;00m \u001b[38;5;28mself\u001b[39m\u001b[38;5;241m.\u001b[39mshadow_tree\u001b[38;5;241m.\u001b[39mis_classifier():\n\u001b[1;32m    526\u001b[0m     class_values \u001b[38;5;241m=\u001b[39m \u001b[38;5;28mself\u001b[39m\u001b[38;5;241m.\u001b[39mshadow_tree\u001b[38;5;241m.\u001b[39mclasses()\n\u001b[0;32m--> 527\u001b[0m     \u001b[38;5;28;01mif\u001b[39;00m \u001b[43mnp\u001b[49m\u001b[38;5;241;43m.\u001b[39;49m\u001b[43mmax\u001b[49m\u001b[43m(\u001b[49m\u001b[43mclass_values\u001b[49m\u001b[43m)\u001b[49m\u001b[43m \u001b[49m\u001b[38;5;241;43m>\u001b[39;49m\u001b[38;5;241;43m=\u001b[39;49m\u001b[43m \u001b[49m\u001b[43mn_classes\u001b[49m:\n\u001b[1;32m    528\u001b[0m         \u001b[38;5;28;01mraise\u001b[39;00m \u001b[38;5;167;01mValueError\u001b[39;00m(\u001b[38;5;124mf\u001b[39m\u001b[38;5;124m\"\u001b[39m\u001b[38;5;124mTarget label values (for now) must be 0..\u001b[39m\u001b[38;5;132;01m{\u001b[39;00mn_classes\u001b[38;5;241m-\u001b[39m\u001b[38;5;241m1\u001b[39m\u001b[38;5;132;01m}\u001b[39;00m\u001b[38;5;124m for n=\u001b[39m\u001b[38;5;132;01m{\u001b[39;00mn_classes\u001b[38;5;132;01m}\u001b[39;00m\u001b[38;5;124m labels\u001b[39m\u001b[38;5;124m\"\u001b[39m)\n\u001b[1;32m    529\u001b[0m     color_map \u001b[38;5;241m=\u001b[39m {v: color_values[i] \u001b[38;5;28;01mfor\u001b[39;00m i, v \u001b[38;5;129;01min\u001b[39;00m \u001b[38;5;28menumerate\u001b[39m(class_values)}\n",
      "\u001b[0;31mTypeError\u001b[0m: '<=' not supported between instances of 'numpy.ndarray' and 'str'"
     ]
    }
   ],
   "source": [
    "# Your code here! :)\n",
    "from dtreeviz.trees import *\n",
    "\n",
    "feature_names = gc.drop('Class', axis = 1).columns\n",
    "viz = dtreeviz.model(clf, X_train, y_train, target_name = 'Class', feature_names = feature_names, class_names = [1, 0])\n",
    "\n",
    "#viz.view()\n",
    "\n",
    "'''\n",
    "IGNORED!\n",
    "'''"
   ]
  },
  {
   "cell_type": "markdown",
   "metadata": {},
   "source": [
    "## Random Forests"
   ]
  },
  {
   "cell_type": "markdown",
   "metadata": {},
   "source": [
    "As discussed in the lecture videos, Decision Tree algorithms also have certain undesireable properties. Mainly the have low bias, which is good, but tend to have high variance - which is *not* so good (more about this problem here: https://en.wikipedia.org/wiki/Bias%E2%80%93variance_tradeoff)."
   ]
  },
  {
   "cell_type": "markdown",
   "metadata": {},
   "source": [
    "Noticing these problems, the late Professor Leo Breiman, in 2001, developed the Random Forests algorithm, which mitigates these problems, while at the same time providing even higher predictive accuracy than the majority of Decision Tree algorithm implementations. While the curriculum contains two excellent lectures on Random Forests, if you're interested, you can dive into the original paper here: https://link.springer.com/content/pdf/10.1023%2FA%3A1010933404324.pdf."
   ]
  },
  {
   "cell_type": "markdown",
   "metadata": {},
   "source": [
    "In the next part of this assignment, your are going to use the same \"German Credit\" dataset to train, tune, and measure the performance of a Random Forests model. You will also see certain functionalities that this model, even though it's a bit of a \"black box\", provides for some degree of interpretability."
   ]
  },
  {
   "cell_type": "markdown",
   "metadata": {},
   "source": [
    "First, let's build a Random Forests model, using the same best practices that you've used for your Decision Trees model. You can reuse the things you've already imported there, so no need to do any re-imports, new train/test splits, or loading up the data again."
   ]
  },
  {
   "cell_type": "code",
   "execution_count": 42,
   "metadata": {},
   "outputs": [],
   "source": [
    "from sklearn.ensemble import RandomForestClassifier"
   ]
  },
  {
   "cell_type": "code",
   "execution_count": 46,
   "metadata": {},
   "outputs": [
    {
     "name": "stdout",
     "output_type": "stream",
     "text": [
      "              precision    recall  f1-score   support\n",
      "\n",
      "         Bad       0.75      0.38      0.50       100\n",
      "        Good       0.75      0.94      0.83       200\n",
      "\n",
      "    accuracy                           0.75       300\n",
      "   macro avg       0.75      0.66      0.67       300\n",
      "weighted avg       0.75      0.75      0.72       300\n",
      "\n"
     ]
    }
   ],
   "source": [
    "# Your code here! :)\n",
    "rf = RandomForestClassifier()\n",
    "rf.fit(X_train, y_train)\n",
    "y_pred = rf.predict(X_test)\n",
    "\n",
    "print(classification_report(y_test, y_pred))"
   ]
  },
  {
   "cell_type": "code",
   "execution_count": 49,
   "metadata": {},
   "outputs": [
    {
     "name": "stdout",
     "output_type": "stream",
     "text": [
      "Best: 0.765714 using {'criterion': 'entropy', 'min_samples_leaf': 1, 'n_estimators': 181}\n",
      "Took 329.0 seconds.\n"
     ]
    }
   ],
   "source": [
    "params = {'n_estimators': range(1, 200, 15),\n",
    "          'criterion': ['gini', 'entropy', 'log_loss'],\n",
    "          'min_samples_leaf': range(1, 102, 5)\n",
    "         }\n",
    "\n",
    "start = time.time_ns()\n",
    "grid_rf = GridSearchCV(RandomForestClassifier(), param_grid = params, cv = 10, n_jobs = -1) \n",
    "grid_rf.fit(X_train, y_train)\n",
    "end = time.time_ns()\n",
    "t = (end - start) // 1e9 \n",
    "print(\"Best: %f using %s\" % (grid_rf.best_score_, grid_rf.best_params_))\n",
    "print(\"Took\", t, \"seconds.\")"
   ]
  },
  {
   "cell_type": "code",
   "execution_count": 53,
   "metadata": {},
   "outputs": [
    {
     "name": "stdout",
     "output_type": "stream",
     "text": [
      "              precision    recall  f1-score   support\n",
      "\n",
      "         Bad       0.75      0.39      0.51       100\n",
      "        Good       0.75      0.94      0.83       200\n",
      "\n",
      "    accuracy                           0.75       300\n",
      "   macro avg       0.75      0.66      0.67       300\n",
      "weighted avg       0.75      0.75      0.73       300\n",
      "\n"
     ]
    }
   ],
   "source": [
    "best_rf = RandomForestClassifier(criterion = 'entropy', n_estimators = 181, min_samples_leaf = 1)\n",
    "best_rf.fit(X_train, y_train)\n",
    "y_pred = best_rf.predict(X_test)\n",
    "\n",
    "print(classification_report(y_test, y_pred))"
   ]
  },
  {
   "cell_type": "markdown",
   "metadata": {},
   "source": [
    "As mentioned, there are certain ways to \"peek\" into a model created by the Random Forests algorithm. The first, and most popular one, is the Feature Importance calculation functionality. This allows the ML practitioner to see an ordering of the importance of the features that have contributed the most to the predictive accuracy of the model. \n",
    "\n",
    "You can see how to use this in the scikit-learn documentation (http://scikit-learn.org/stable/modules/generated/sklearn.ensemble.RandomForestClassifier.html#sklearn.ensemble.RandomForestClassifier.feature_importances_). Now, if you tried this, you would just get an ordered table of not directly interpretable numeric values. Thus, it's much more useful to show the feature importance in a visual way. You can see an example of how that's done here: http://scikit-learn.org/stable/auto_examples/ensemble/plot_forest_importances.html#sphx-glr-auto-examples-ensemble-plot-forest-importances-py\n",
    "\n",
    "Now you try! Let's visualize the importance of features from your Random Forests model!"
   ]
  },
  {
   "cell_type": "code",
   "execution_count": 39,
   "metadata": {},
   "outputs": [
    {
     "name": "stdout",
     "output_type": "stream",
     "text": [
      "Yeah not happening\n"
     ]
    }
   ],
   "source": [
    "# Your code here\n",
    "print(\"Yeah not happening\")"
   ]
  },
  {
   "cell_type": "markdown",
   "metadata": {},
   "source": [
    "A final method for gaining some insight into the inner working of your Random Forests models is a so-called Partial Dependence Plot. The Partial Dependence Plot (PDP or PD plot) shows the marginal effect of a feature on the predicted outcome of a previously fit model. The prediction function is fixed at a few values of the chosen features and averaged over the other features. A partial dependence plot can show if the relationship between the target and a feature is linear, monotonic or more complex. \n",
    "\n",
    "In scikit-learn, PDPs are implemented and available for certain algorithms, but at this point (version 0.20.0) they are not yet implemented for Random Forests. Thankfully, there is an add-on package called **PDPbox** (https://pdpbox.readthedocs.io/en/latest/) which adds this functionality to Random Forests. The package is easy to install through pip."
   ]
  },
  {
   "cell_type": "code",
   "execution_count": 40,
   "metadata": {},
   "outputs": [
    {
     "name": "stdout",
     "output_type": "stream",
     "text": [
      "Collecting pdpbox\n",
      "  Downloading PDPbox-0.3.0-py3-none-any.whl (35.8 MB)\n",
      "\u001b[2K     \u001b[90m━━━━━━━━━━━━━━━━━━━━━━━━━━━━━━━━━━━━━━━━\u001b[0m \u001b[32m35.8/35.8 MB\u001b[0m \u001b[31m6.8 MB/s\u001b[0m eta \u001b[36m0:00:00\u001b[0m:00:01\u001b[0m00:01\u001b[0m\n",
      "\u001b[?25hRequirement already satisfied: numpydoc>=1.4.0 in /Users/janjacob/anaconda3/lib/python3.10/site-packages (from pdpbox) (1.5.0)\n",
      "Requirement already satisfied: numpy>=1.21.5 in /Users/janjacob/anaconda3/lib/python3.10/site-packages (from pdpbox) (1.23.5)\n",
      "Requirement already satisfied: pandas>=1.4.4 in /Users/janjacob/anaconda3/lib/python3.10/site-packages (from pdpbox) (1.5.3)\n",
      "Requirement already satisfied: pytest in /Users/janjacob/anaconda3/lib/python3.10/site-packages (from pdpbox) (7.1.2)\n",
      "Collecting xgboost>=1.7.1\n",
      "  Downloading xgboost-1.7.6-py3-none-macosx_10_15_x86_64.macosx_11_0_x86_64.macosx_12_0_x86_64.whl (1.8 MB)\n",
      "\u001b[2K     \u001b[90m━━━━━━━━━━━━━━━━━━━━━━━━━━━━━━━━━━━━━━━━\u001b[0m \u001b[32m1.8/1.8 MB\u001b[0m \u001b[31m11.0 MB/s\u001b[0m eta \u001b[36m0:00:00\u001b[0m00:01\u001b[0m00:01\u001b[0m\n",
      "\u001b[?25hRequirement already satisfied: scikit-learn>=1.0.2 in /Users/janjacob/anaconda3/lib/python3.10/site-packages (from pdpbox) (1.2.2)\n",
      "Requirement already satisfied: plotly>=5.9.0 in /Users/janjacob/anaconda3/lib/python3.10/site-packages (from pdpbox) (5.9.0)\n",
      "Collecting pqdm>=0.2.0\n",
      "  Downloading pqdm-0.2.0-py2.py3-none-any.whl (6.8 kB)\n",
      "Requirement already satisfied: setuptools in /Users/janjacob/anaconda3/lib/python3.10/site-packages (from pdpbox) (65.6.3)\n",
      "Requirement already satisfied: tqdm>=4.64.1 in /Users/janjacob/anaconda3/lib/python3.10/site-packages (from pdpbox) (4.64.1)\n",
      "Requirement already satisfied: sphinx>=5.0.2 in /Users/janjacob/anaconda3/lib/python3.10/site-packages (from pdpbox) (5.0.2)\n",
      "Requirement already satisfied: psutil>=5.9.0 in /Users/janjacob/anaconda3/lib/python3.10/site-packages (from pdpbox) (5.9.0)\n",
      "Collecting sphinx-rtd-theme>=1.1.1\n",
      "  Downloading sphinx_rtd_theme-1.2.2-py2.py3-none-any.whl (2.8 MB)\n",
      "\u001b[2K     \u001b[90m━━━━━━━━━━━━━━━━━━━━━━━━━━━━━━━━━━━━━━━━\u001b[0m \u001b[32m2.8/2.8 MB\u001b[0m \u001b[31m13.2 MB/s\u001b[0m eta \u001b[36m0:00:00\u001b[0m00:01\u001b[0m00:01\u001b[0m\n",
      "\u001b[?25hRequirement already satisfied: matplotlib>=3.6.2 in /Users/janjacob/anaconda3/lib/python3.10/site-packages (from pdpbox) (3.7.0)\n",
      "Requirement already satisfied: joblib>=1.1.0 in /Users/janjacob/anaconda3/lib/python3.10/site-packages (from pdpbox) (1.1.1)\n",
      "Requirement already satisfied: fonttools>=4.22.0 in /Users/janjacob/anaconda3/lib/python3.10/site-packages (from matplotlib>=3.6.2->pdpbox) (4.25.0)\n",
      "Requirement already satisfied: cycler>=0.10 in /Users/janjacob/anaconda3/lib/python3.10/site-packages (from matplotlib>=3.6.2->pdpbox) (0.11.0)\n",
      "Requirement already satisfied: pyparsing>=2.3.1 in /Users/janjacob/anaconda3/lib/python3.10/site-packages (from matplotlib>=3.6.2->pdpbox) (3.0.9)\n",
      "Requirement already satisfied: contourpy>=1.0.1 in /Users/janjacob/anaconda3/lib/python3.10/site-packages (from matplotlib>=3.6.2->pdpbox) (1.0.5)\n",
      "Requirement already satisfied: kiwisolver>=1.0.1 in /Users/janjacob/anaconda3/lib/python3.10/site-packages (from matplotlib>=3.6.2->pdpbox) (1.4.4)\n",
      "Requirement already satisfied: pillow>=6.2.0 in /Users/janjacob/anaconda3/lib/python3.10/site-packages (from matplotlib>=3.6.2->pdpbox) (9.4.0)\n",
      "Requirement already satisfied: python-dateutil>=2.7 in /Users/janjacob/anaconda3/lib/python3.10/site-packages (from matplotlib>=3.6.2->pdpbox) (2.8.2)\n",
      "Requirement already satisfied: packaging>=20.0 in /Users/janjacob/anaconda3/lib/python3.10/site-packages (from matplotlib>=3.6.2->pdpbox) (22.0)\n",
      "Requirement already satisfied: Jinja2>=2.10 in /Users/janjacob/anaconda3/lib/python3.10/site-packages (from numpydoc>=1.4.0->pdpbox) (3.1.2)\n",
      "Requirement already satisfied: pytz>=2020.1 in /Users/janjacob/anaconda3/lib/python3.10/site-packages (from pandas>=1.4.4->pdpbox) (2022.7)\n",
      "Requirement already satisfied: tenacity>=6.2.0 in /Users/janjacob/anaconda3/lib/python3.10/site-packages (from plotly>=5.9.0->pdpbox) (8.0.1)\n",
      "Requirement already satisfied: typing-extensions in /Users/janjacob/anaconda3/lib/python3.10/site-packages (from pqdm>=0.2.0->pdpbox) (4.4.0)\n",
      "Collecting bounded-pool-executor\n",
      "  Downloading bounded_pool_executor-0.0.3-py3-none-any.whl (3.4 kB)\n",
      "Requirement already satisfied: threadpoolctl>=2.0.0 in /Users/janjacob/anaconda3/lib/python3.10/site-packages (from scikit-learn>=1.0.2->pdpbox) (2.2.0)\n",
      "Requirement already satisfied: scipy>=1.3.2 in /Users/janjacob/anaconda3/lib/python3.10/site-packages (from scikit-learn>=1.0.2->pdpbox) (1.10.0)\n",
      "Requirement already satisfied: sphinxcontrib-htmlhelp>=2.0.0 in /Users/janjacob/anaconda3/lib/python3.10/site-packages (from sphinx>=5.0.2->pdpbox) (2.0.0)\n",
      "Requirement already satisfied: sphinxcontrib-qthelp in /Users/janjacob/anaconda3/lib/python3.10/site-packages (from sphinx>=5.0.2->pdpbox) (1.0.3)\n",
      "Requirement already satisfied: imagesize in /Users/janjacob/anaconda3/lib/python3.10/site-packages (from sphinx>=5.0.2->pdpbox) (1.4.1)\n",
      "Requirement already satisfied: babel>=1.3 in /Users/janjacob/anaconda3/lib/python3.10/site-packages (from sphinx>=5.0.2->pdpbox) (2.11.0)\n",
      "Requirement already satisfied: docutils<0.19,>=0.14 in /Users/janjacob/anaconda3/lib/python3.10/site-packages (from sphinx>=5.0.2->pdpbox) (0.18.1)\n",
      "Requirement already satisfied: sphinxcontrib-jsmath in /Users/janjacob/anaconda3/lib/python3.10/site-packages (from sphinx>=5.0.2->pdpbox) (1.0.1)\n",
      "Requirement already satisfied: Pygments>=2.0 in /Users/janjacob/anaconda3/lib/python3.10/site-packages (from sphinx>=5.0.2->pdpbox) (2.11.2)\n",
      "Requirement already satisfied: sphinxcontrib-applehelp in /Users/janjacob/anaconda3/lib/python3.10/site-packages (from sphinx>=5.0.2->pdpbox) (1.0.2)\n",
      "Requirement already satisfied: alabaster<0.8,>=0.7 in /Users/janjacob/anaconda3/lib/python3.10/site-packages (from sphinx>=5.0.2->pdpbox) (0.7.12)\n",
      "Requirement already satisfied: sphinxcontrib-devhelp in /Users/janjacob/anaconda3/lib/python3.10/site-packages (from sphinx>=5.0.2->pdpbox) (1.0.2)\n",
      "Requirement already satisfied: snowballstemmer>=1.1 in /Users/janjacob/anaconda3/lib/python3.10/site-packages (from sphinx>=5.0.2->pdpbox) (2.2.0)\n",
      "Requirement already satisfied: requests>=2.5.0 in /Users/janjacob/anaconda3/lib/python3.10/site-packages (from sphinx>=5.0.2->pdpbox) (2.28.1)\n",
      "Requirement already satisfied: sphinxcontrib-serializinghtml>=1.1.5 in /Users/janjacob/anaconda3/lib/python3.10/site-packages (from sphinx>=5.0.2->pdpbox) (1.1.5)\n",
      "Collecting sphinxcontrib-jquery<5,>=4\n",
      "  Downloading sphinxcontrib_jquery-4.1-py2.py3-none-any.whl (121 kB)\n",
      "\u001b[2K     \u001b[90m━━━━━━━━━━━━━━━━━━━━━━━━━━━━━━━━━━━━━━━\u001b[0m \u001b[32m121.1/121.1 kB\u001b[0m \u001b[31m1.3 MB/s\u001b[0m eta \u001b[36m0:00:00\u001b[0ma \u001b[36m0:00:01\u001b[0m\n",
      "\u001b[?25hRequirement already satisfied: attrs>=19.2.0 in /Users/janjacob/anaconda3/lib/python3.10/site-packages (from pytest->pdpbox) (22.1.0)\n",
      "Requirement already satisfied: iniconfig in /Users/janjacob/anaconda3/lib/python3.10/site-packages (from pytest->pdpbox) (1.1.1)\n",
      "Requirement already satisfied: pluggy<2.0,>=0.12 in /Users/janjacob/anaconda3/lib/python3.10/site-packages (from pytest->pdpbox) (1.0.0)\n",
      "Requirement already satisfied: py>=1.8.2 in /Users/janjacob/anaconda3/lib/python3.10/site-packages (from pytest->pdpbox) (1.11.0)\n",
      "Requirement already satisfied: tomli>=1.0.0 in /Users/janjacob/anaconda3/lib/python3.10/site-packages (from pytest->pdpbox) (2.0.1)\n",
      "Requirement already satisfied: MarkupSafe>=2.0 in /Users/janjacob/anaconda3/lib/python3.10/site-packages (from Jinja2>=2.10->numpydoc>=1.4.0->pdpbox) (2.1.1)\n",
      "Requirement already satisfied: six>=1.5 in /Users/janjacob/anaconda3/lib/python3.10/site-packages (from python-dateutil>=2.7->matplotlib>=3.6.2->pdpbox) (1.16.0)\n",
      "Requirement already satisfied: idna<4,>=2.5 in /Users/janjacob/anaconda3/lib/python3.10/site-packages (from requests>=2.5.0->sphinx>=5.0.2->pdpbox) (3.4)\n",
      "Requirement already satisfied: charset-normalizer<3,>=2 in /Users/janjacob/anaconda3/lib/python3.10/site-packages (from requests>=2.5.0->sphinx>=5.0.2->pdpbox) (2.0.4)\n",
      "Requirement already satisfied: certifi>=2017.4.17 in /Users/janjacob/anaconda3/lib/python3.10/site-packages (from requests>=2.5.0->sphinx>=5.0.2->pdpbox) (2022.12.7)\n",
      "Requirement already satisfied: urllib3<1.27,>=1.21.1 in /Users/janjacob/anaconda3/lib/python3.10/site-packages (from requests>=2.5.0->sphinx>=5.0.2->pdpbox) (1.26.14)\n",
      "Installing collected packages: bounded-pool-executor, pqdm, xgboost, sphinxcontrib-jquery, sphinx-rtd-theme, pdpbox\n",
      "Successfully installed bounded-pool-executor-0.0.3 pdpbox-0.3.0 pqdm-0.2.0 sphinx-rtd-theme-1.2.2 sphinxcontrib-jquery-4.1 xgboost-1.7.6\n"
     ]
    }
   ],
   "source": [
    "! pip3 install pdpbox"
   ]
  },
  {
   "cell_type": "markdown",
   "metadata": {},
   "source": [
    "While we encourage you to read the documentation for the package (and reading package documentation in general is a good habit to develop), the authors of the package have also written an excellent blog post on how to use it, showing examples on different algorithms from scikit-learn (the Random Forests example is towards the end of the blog post): https://briangriner.github.io/Partial_Dependence_Plots_presentation-BrianGriner-PrincetonPublicLibrary-4.14.18-updated-4.22.18.html"
   ]
  },
  {
   "cell_type": "markdown",
   "metadata": {},
   "source": [
    "So, armed with this new knowledge, feel free to pick a few features, and make a couple of Partial Dependence Plots of your own!"
   ]
  },
  {
   "cell_type": "code",
   "execution_count": 64,
   "metadata": {},
   "outputs": [
    {
     "name": "stdout",
     "output_type": "stream",
     "text": [
      "The github page no longer exist...\n"
     ]
    }
   ],
   "source": [
    "# Your code here!\n",
    "import pdpbox\n",
    "print(\"The github page no longer exist...\")"
   ]
  },
  {
   "cell_type": "markdown",
   "metadata": {},
   "source": [
    "## (Optional) Advanced Boosting-Based Algorithms"
   ]
  },
  {
   "cell_type": "markdown",
   "metadata": {},
   "source": [
    "As explained in the video lectures, the next generation of algorithms after Random Forests (that use Bagging, a.k.a. Bootstrap Aggregation) were developed using Boosting, and the first one of these were Gradient Boosted Machines, which are implemented in scikit-learn (http://scikit-learn.org/stable/modules/ensemble.html#gradient-tree-boosting)."
   ]
  },
  {
   "cell_type": "markdown",
   "metadata": {},
   "source": [
    "Still, in recent years, a number of variations on GBMs have been developed by different research amd industry groups, all of them bringing improvements, both in speed, accuracy and functionality to the original Gradient Boosting algorithms.\n",
    "\n",
    "In no order of preference, these are:\n",
    "1. **XGBoost**: https://xgboost.readthedocs.io/en/latest/\n",
    "2. **CatBoost**: https://tech.yandex.com/catboost/\n",
    "3. **LightGBM**: https://lightgbm.readthedocs.io/en/latest/"
   ]
  },
  {
   "cell_type": "markdown",
   "metadata": {},
   "source": [
    "If you're using the Anaconda distribution, these are all very easy to install:"
   ]
  },
  {
   "cell_type": "code",
   "execution_count": null,
   "metadata": {},
   "outputs": [],
   "source": [
    "! conda install -c anaconda py-xgboost"
   ]
  },
  {
   "cell_type": "code",
   "execution_count": null,
   "metadata": {},
   "outputs": [],
   "source": [
    "! conda install -c conda-forge catboost"
   ]
  },
  {
   "cell_type": "code",
   "execution_count": null,
   "metadata": {},
   "outputs": [],
   "source": [
    "! conda install -c conda-forge lightgbm"
   ]
  },
  {
   "cell_type": "markdown",
   "metadata": {},
   "source": [
    "Your task in this optional section of the mini project is to read the documentation of these three libraries, and apply all of them to the \"German Credit\" dataset, just like you did in the case of Decision Trees and Random Forests."
   ]
  },
  {
   "cell_type": "markdown",
   "metadata": {},
   "source": [
    "The final deliverable of this section should be a table (can be a pandas DataFrame) which shows the accuracy of all the five algorthms taught in this mini project in one place."
   ]
  },
  {
   "cell_type": "markdown",
   "metadata": {},
   "source": [
    "Happy modeling! :)"
   ]
  },
  {
   "cell_type": "code",
   "execution_count": null,
   "metadata": {},
   "outputs": [],
   "source": []
  }
 ],
 "metadata": {
  "kernelspec": {
   "display_name": "Python 3 (ipykernel)",
   "language": "python",
   "name": "python3"
  },
  "language_info": {
   "codemirror_mode": {
    "name": "ipython",
    "version": 3
   },
   "file_extension": ".py",
   "mimetype": "text/x-python",
   "name": "python",
   "nbconvert_exporter": "python",
   "pygments_lexer": "ipython3",
   "version": "3.10.9"
  }
 },
 "nbformat": 4,
 "nbformat_minor": 4
}
